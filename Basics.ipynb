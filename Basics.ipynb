{
 "cells": [
  {
   "cell_type": "code",
   "execution_count": 1,
   "metadata": {
    "collapsed": false
   },
   "outputs": [],
   "source": [
    "import csv\n",
    "\n",
    "class Victim:\n",
    "    indexMapping = {\"year\":1,\"month\":2,\"intent\":3,\"policy\":4,\"sex\":5,\"age\":6,\"race\":7,\"hispanic\":8,\"place\":9,\"education\":10}\n",
    "    \n",
    "    def __init__(self,row):\n",
    "        self.row = row\n",
    "        \n",
    "    def getValue(self,columnName):\n",
    "        #print(self.row[0])\n",
    "        return self.row[self.indexMapping[columnName]]\n",
    "    \n",
    "    def getIndex(self,columnName):\n",
    "        return self.indexMapping[columnName]\n",
    "      \n",
    "        \n",
    "class Census:\n",
    "    \n",
    "    indexMapping = {\"White\":10,\"Hispanic\":11,\"Black\":12,\"Native American/Native Alaskan\":13,\"Asian\":14,\"Native Asian\":15}\n",
    "    popDict = {}\n",
    "    \n",
    "    def __init__(self,row):\n",
    "        self.row = row\n",
    "        self.popDict[\"Asian/Pacific Islander\"] = int(self.getValue(\"Asian\"))+int(self.getValue(\"Native Asian\"))\n",
    "        self.popDict[\"Black\"] = int(self.getValue(\"Black\"))\n",
    "        self.popDict[\"Hispanic\"] = int(self.getValue(\"Hispanic\"))\n",
    "        self.popDict[\"Native American/Native Alaskan\"] = int(self.getValue(\"Native American/Native Alaskan\"))\n",
    "        self.popDict[\"White\"] = int(self.getValue(\"White\"))\n",
    "        \n",
    "    def getValue(self,columnName):\n",
    "        return self.row[self.indexMapping[columnName]]\n",
    "    \n",
    "    def getIndex(self,columnName):\n",
    "        return self.indexMapping[columnName]\n"
   ]
  },
  {
   "cell_type": "code",
   "execution_count": 2,
   "metadata": {
    "collapsed": false
   },
   "outputs": [],
   "source": [
    "class GdReport:\n",
    "    victimList = []\n",
    "    censusList = []\n",
    "    \n",
    "    def __init__(self,guns_file,census_file):\n",
    "        self.convertGunsToObject(open(guns_file,\"r\"),\"guns\")\n",
    "        self.convertGunsToObject(open(census_file,\"r\"),\"census\")\n",
    "        \n",
    "    def convertGunsToObject(self, inputFile, objectType):\n",
    "        csvReader = csv.reader(inputFile)\n",
    "        rows = list(csvReader)\n",
    "        \n",
    "        for row in rows[1:]:\n",
    "            if objectType == \"guns\" :\n",
    "                victim = Victim(row)\n",
    "                self.victimList.append(victim)\n",
    "            elif objectType == \"census\":\n",
    "                census = Census(row)\n",
    "                self.censusList.append(census)\n",
    "                \n",
    "    def calRate(self,primaryGroupName,primaryGroupValue,secondaryGroupName):\n",
    "        \n",
    "        result = {}\n",
    "        \n",
    "        for victim in self.victimList:\n",
    "            if victim.getValue(primaryGroupName) == primaryGroupValue:\n",
    "                if victim.getValue(secondaryGroupName) not in result:\n",
    "                    result[victim.getValue(secondaryGroupName)] = 1\n",
    "                else:\n",
    "                    result[victim.getValue(secondaryGroupName)] += 1\n",
    "        \n",
    "        return result\n",
    "            \n",
    "    def calHundredRaceRate(self,intentValue):\n",
    "        result = self.calRate(\"intent\",intentValue,\"race\")\n",
    "        \n",
    "        for key,value in result.items():\n",
    "            print(key)\n",
    "            print(self.censusList[0].popDict[key])\n",
    "            print(value)\n",
    "            result[key] = value/int(self.censusList[0].popDict[key])*100000\n",
    "            \n",
    "        return result\n",
    "\n",
    "report = GdReport(\"guns.csv\",\"census.csv\") "
   ]
  },
  {
   "cell_type": "markdown",
   "metadata": {},
   "source": [
    "Read me:\n",
    "call calRate to get counts distribution:\n",
    "1st parameter : column to filter e.g intent\n",
    "2nd parameter : value to filter e.g Suicide\n",
    "3rd parameter : colomn to be check for distribution e.g sex\n",
    "\n",
    "call calHundredRaceRate to get counts with the consideration of racial ratio\n",
    "1st parameter : intent value\n",
    "\n",
    "refer to the following for examples"
   ]
  },
  {
   "cell_type": "code",
   "execution_count": 10,
   "metadata": {
    "collapsed": false
   },
   "outputs": [
    {
     "name": "stdout",
     "output_type": "stream",
     "text": [
      "White\n",
      "197318956\n",
      "9147\n",
      "Hispanic\n",
      "44618105\n",
      "5634\n",
      "Black\n",
      "40250635\n",
      "19510\n",
      "Native American/Native Alaskan\n",
      "3739506\n",
      "326\n",
      "Asian/Pacific Islander\n",
      "15834141\n",
      "559\n",
      "{'White': 4.6356417981453335, 'Hispanic': 12.627161104219914, 'Black': 48.471284987180944, 'Native American/Native Alaskan': 8.717729026240365, 'Asian/Pacific Islander': 3.530346230970155}\n",
      "{'White': 9147, 'Hispanic': 5634, 'Black': 19510, 'Native American/Native Alaskan': 326, 'Asian/Pacific Islander': 559}\n"
     ]
    }
   ],
   "source": [
    "homicide_race_counts  = report.calHundredRaceRate(\"Homicide\")\n",
    "print(homicide_race_counts )\n",
    "\n",
    "print(report.calRate(\"intent\",\"Homicide\",\"race\"))"
   ]
  },
  {
   "cell_type": "markdown",
   "metadata": {},
   "source": [
    "(1) homicide rate by race\n",
    "Race of Black victim has the most homicide intent among all other race."
   ]
  },
  {
   "cell_type": "code",
   "execution_count": 6,
   "metadata": {
    "collapsed": false
   },
   "outputs": [
    {
     "name": "stdout",
     "output_type": "stream",
     "text": [
      "{'F': 10746, 'M': 59606}\n"
     ]
    }
   ],
   "source": [
    "result = report.calRate(\"intent\",\"Homicide\",\"sex\")\n",
    "print(result)"
   ]
  },
  {
   "cell_type": "markdown",
   "metadata": {},
   "source": [
    "(2) Homicide rate by sex\n",
    "Male victim is almost 6 times higher the Female"
   ]
  },
  {
   "cell_type": "code",
   "execution_count": 7,
   "metadata": {
    "collapsed": false
   },
   "outputs": [
    {
     "name": "stdout",
     "output_type": "stream",
     "text": [
      "{'5': 910, '3': 11280, 'NA': 68, '2': 31298, '4': 3118, '1': 23678}\n"
     ]
    }
   ],
   "source": [
    "result = report.calRate(\"intent\",\"Homicide\",\"education\")\n",
    "print(result)"
   ]
  },
  {
   "cell_type": "markdown",
   "metadata": {},
   "source": [
    "(3) Homocide rate by education level\n",
    "education level is related, the lower the education the lower the victim rate"
   ]
  },
  {
   "cell_type": "code",
   "execution_count": 15,
   "metadata": {
    "collapsed": false
   },
   "outputs": [
    {
     "name": "stdout",
     "output_type": "stream",
     "text": [
      "{'NA': 6, 'Homicide': 54882, 'Accidental': 6792, 'Undetermined': 3510, 'Suicide': 332232}\n"
     ]
    }
   ],
   "source": [
    "result = report.calRate(\"race\",\"White\",\"intent\")\n",
    "print(result)"
   ]
  },
  {
   "cell_type": "markdown",
   "metadata": {},
   "source": [
    "(4) intent distribution for whice race\n",
    "suicide is the highest among all the intent"
   ]
  },
  {
   "cell_type": "code",
   "execution_count": 14,
   "metadata": {
    "collapsed": false
   },
   "outputs": [
    {
     "name": "stdout",
     "output_type": "stream",
     "text": [
      "{'Undetermined': 126, 'Accidental': 328, 'Homicide': 19510, 'Suicide': 3332}\n"
     ]
    }
   ],
   "source": [
    "result = report.calRate(\"race\",\"Black\",\"intent\")\n",
    "print(result)"
   ]
  },
  {
   "cell_type": "markdown",
   "metadata": {},
   "source": [
    "(5) intent distribution amont black race\n",
    "Homicide is the highest among all the intent"
   ]
  },
  {
   "cell_type": "code",
   "execution_count": 15,
   "metadata": {
    "collapsed": false
   },
   "outputs": [
    {
     "name": "stdout",
     "output_type": "stream",
     "text": [
      "{'Residential institution': 73, 'School/instiution': 361, 'Sports': 22, 'Street': 8867, 'NA': 1383, 'Other specified': 5429, 'Industrial/construction': 85, 'Other unspecified': 3604, 'Home': 13613, 'Farm': 76, 'Trade/service area': 1663}\n"
     ]
    }
   ],
   "source": [
    "result = report.calRate(\"intent\",\"Homicide\",\"place\")\n",
    "print(result)"
   ]
  }
 ],
 "metadata": {
  "kernelspec": {
   "display_name": "Python 3",
   "language": "python",
   "name": "python3"
  },
  "language_info": {
   "codemirror_mode": {
    "name": "ipython",
    "version": 3
   },
   "file_extension": ".py",
   "mimetype": "text/x-python",
   "name": "python",
   "nbconvert_exporter": "python",
   "pygments_lexer": "ipython3",
   "version": "3.4.3"
  }
 },
 "nbformat": 4,
 "nbformat_minor": 0
}
